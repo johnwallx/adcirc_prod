{
 "cells": [
  {
   "cell_type": "markdown",
   "metadata": {},
   "source": [
    "# CHAMP Transects Notebook\n",
    "\n",
    "<img style=\"float:right;\" src=\"https://id.dewberry.com/clients/Templates/DewberryLogo_RGB.png\" width=150px>"
   ]
  },
  {
   "cell_type": "markdown",
   "metadata": {},
   "source": [
    "### Description\n",
    "Read data from Microsoft Access\n",
    "\n",
    "---\n",
    "\n",
    "#### - Requirements\n",
    "  1. whafis_champ library\n",
    "  2. Microsoft Access files\n",
    "  3. pyodc python library\n",
    "  \n",
    "#### - Usage:\n",
    "  1. Import Libraries & Assign Paths\n",
    "  2. Read in data from files:\n",
    "  \n",
    " ---"
   ]
  },
  {
   "cell_type": "markdown",
   "metadata": {},
   "source": [
    "### Import Libraries"
   ]
  },
  {
   "cell_type": "code",
   "execution_count": 1,
   "metadata": {},
   "outputs": [],
   "source": [
    "import pyodbc\n",
    "import pandas as pd\n",
    "import numpy as np\n",
    "from importlib import reload\n",
    "import whafis_champ ; reload(whafis_champ)\n",
    "from whafis_champ import *\n",
    "from matplotlib import pyplot as plt\n",
    "import os\n",
    "%matplotlib inline"
   ]
  },
  {
   "cell_type": "markdown",
   "metadata": {},
   "source": [
    "### Assign Paths"
   ]
  },
  {
   "cell_type": "code",
   "execution_count": 2,
   "metadata": {},
   "outputs": [],
   "source": [
    "root_dir = r'P:\\Temp\\tmiesse\\for_Jeff_transects'\n",
    "mbd      = 'Charlotte_CHAMP.mdb'\n",
    "path     = os.path.join(root_dir,mbd)\n",
    "xl1, xl2, xl25, xl3, xl4 = [],[],[],[],[]\n",
    "yl1, yl2, yl25, yl3, yl4 = [],[],[],[],[]"
   ]
  },
  {
   "cell_type": "markdown",
   "metadata": {},
   "source": [
    "### Open the Microsoft Access Data"
   ]
  },
  {
   "cell_type": "markdown",
   "metadata": {},
   "source": [
    "#### EROSION"
   ]
  },
  {
   "cell_type": "code",
   "execution_count": 3,
   "metadata": {},
   "outputs": [],
   "source": [
    "select = 'EROSION'\n",
    "dfE = micro_access_open(path,select)\n",
    "dfE.rename(columns={0:'Transect', 1:'Station', 2:'Elevation'}, inplace=True)\n",
    "transects = list(dfE['Transect'].unique() )"
   ]
  },
  {
   "cell_type": "markdown",
   "metadata": {},
   "source": [
    "#### Geometry"
   ]
  },
  {
   "cell_type": "code",
   "execution_count": 4,
   "metadata": {},
   "outputs": [],
   "source": [
    "select = 'GEOMETRY'\n",
    "dfG = micro_access_open(path,select)\n",
    "dfG.rename(columns={0:'Transect', 1:'SWFL1', 2:'Approach_slope', 3:'Face_Slope', 4:'Remove_slope',\n",
    "                    5:'Seaward Slope', 6:'Critical Area', 7:'Erosion Status', 8:'Reservoir Area'}, inplace=True)\n",
    "transects_geo = list(dfG['Transect'].unique() )"
   ]
  },
  {
   "cell_type": "markdown",
   "metadata": {},
   "source": [
    "#### TRANSECT"
   ]
  },
  {
   "cell_type": "code",
   "execution_count": 5,
   "metadata": {},
   "outputs": [],
   "source": [
    "select = 'TRANSECT'\n",
    "dfT2 = micro_access_open(path,select)\n",
    "dfT2.rename(columns={0:'Transect', 1:'Station', 2:'Elevation'}, inplace=True)\n",
    "transects_orig = list(dfT2['Transect'].unique())"
   ]
  },
  {
   "cell_type": "markdown",
   "metadata": {},
   "source": [
    "#### WHAFIS Part 2"
   ]
  },
  {
   "cell_type": "code",
   "execution_count": 6,
   "metadata": {},
   "outputs": [],
   "source": [
    "select = '[WHAFIS PART 2]'\n",
    "dfW2 = micro_access_open(path,select)\n",
    "dfW2.rename(columns={0:'Transect', 1:'WHAFIS_CARD', 2:'Stations',3:'Wave_height',\n",
    "                     4:'Wave_period',5:'Wave_crest_elevation'}, inplace=True)\n",
    "transects_wave = list(dfW2['Transect'].unique())"
   ]
  },
  {
   "cell_type": "markdown",
   "metadata": {},
   "source": [
    "#### STILLWATER"
   ]
  },
  {
   "cell_type": "code",
   "execution_count": 7,
   "metadata": {},
   "outputs": [],
   "source": [
    "select = 'STILLWATER'\n",
    "dfS2 = micro_access_open(path,select)\n",
    "dfS2.rename(columns={0:'Transect', 1:'Station', 2:'10_year_swell',3:'100_year_swell'}, inplace=True)\n",
    "transects_still = list(dfS2['Transect'].unique())"
   ]
  },
  {
   "cell_type": "markdown",
   "metadata": {},
   "source": [
    "#### WHAFIS PART 6"
   ]
  },
  {
   "cell_type": "code",
   "execution_count": 8,
   "metadata": {},
   "outputs": [],
   "source": [
    "select = '[WHAFIS PART 6]'\n",
    "dfZ2 = micro_access_open(path,select)\n",
    "dfZ2.rename(columns={0:'Transect', 1:'Station begin', 2:'elevation begin',3:'station end',4:'elevation end',5:'zone',\n",
    "                    6:'zone elevation',7:'FHF'}, inplace=True)\n",
    "transects_zone = list(dfZ2['Transect'].unique())"
   ]
  },
  {
   "cell_type": "markdown",
   "metadata": {},
   "source": [
    "### Plot Data"
   ]
  },
  {
   "cell_type": "code",
   "execution_count": 10,
   "metadata": {},
   "outputs": [],
   "source": [
    "title = 'Charlotte County - Wave Envelope Profile'"
   ]
  },
  {
   "cell_type": "code",
   "execution_count": null,
   "metadata": {},
   "outputs": [],
   "source": [
    "for t in transects[1:]:\n",
    "    erosion_profile = dfE[dfE['Transect'] == t]\n",
    "    sorted_erosion = erosion_profile.sort_values(by='Station')\n",
    "    original_profile = dfT2[dfT2['Transect'] == t]\n",
    "    sorted_original = original_profile.sort_values(by='Station')\n",
    "    zone_profile = dfZ2[dfZ2['Transect'] == t]\n",
    "    sorted_zone = zone_profile.sort_values(by='Station begin')\n",
    "    geo_profile = dfG[dfG['Transect'] == t]\n",
    "    change = pd.merge(sorted_original,sorted_erosion,how='outer',indicator='Exist')\n",
    "    change = change.loc[change['Exist'] != 'both']\n",
    "    if t in transects_wave:\n",
    "        if len(change)>1:\n",
    "            fig = plt.figure(figsize=(18,10))\n",
    "            ax1 = plt.axes([0,0.7,1,0.3])\n",
    "            ax2 = plt.axes([0,0,1,0.6])\n",
    "            ax1.plot(sorted_erosion['Station'], sorted_erosion['Elevation'],'k')\n",
    "            ax1.plot(sorted_original['Station'],sorted_original['Elevation'],'--k')\n",
    "            ax2.plot(sorted_original['Station'],sorted_original['Elevation'],'k')\n",
    "            change2 = change.reset_index(drop=True).copy()\n",
    "            ax1.scatter(change2['Station'].iloc[-1],change2['Elevation'].iloc[-1],s=100,c='m')\n",
    "            wave_profile = dfW2[dfW2['Transect'] == t]\n",
    "            sorted_wave = wave_profile.sort_values(by='Stations')\n",
    "            ax2.plot(sorted_wave['Stations'], sorted_wave['Wave_crest_elevation'],'-m')\n",
    "            ax2.plot(sorted_wave['Stations'], sorted_wave['Wave_height'],'-c')\n",
    "            still_profile = dfS2[dfS2['Transect'] == t]\n",
    "            sorted_still = still_profile.sort_values(by='Station')\n",
    "            ax2.plot(sorted_still['Station'], sorted_still['100_year_swell'],'-b')\n",
    "            sorted_wave = sorted_wave.reset_index(drop=True).copy()\n",
    "            geo_name = geo_profile.reset_index(drop=True).copy()\n",
    "            wv_len = np.arange(sorted_wave['Stations'][0],sorted_wave['Stations'].iloc[-1],1)\n",
    "            wave_h = np.interp(wv_len,list(sorted_wave['Stations']),list(sorted_wave['Wave_height']))\n",
    "            for i in range(0,len(wave_h)):\n",
    "                if wave_h[i] >= 3:\n",
    "                    xl1.append(wv_len[i])\n",
    "                    yl1.append(wv_len[i]*0+2.75*sorted_erosion['Elevation'].max())\n",
    "                    \n",
    "                if wave_h[i] < 3 and wave_h[i] >= 1.5:\n",
    "                    xl2.append(wv_len[i])\n",
    "                    yl2.append(wv_len[i]*0+2.75*sorted_erosion['Elevation'].max())\n",
    "                    \n",
    "                if wave_h[i] < 1.5 and wave_h[i] >=0.5:\n",
    "                    xl3.append(wv_len[i])\n",
    "                    yl3.append(wv_len[i]*0+2.75*sorted_erosion['Elevation'].max())\n",
    "                    \n",
    "                if wave_h[i] < 0.5:\n",
    "                    xl4.append(wv_len[i])\n",
    "                    yl4.append(wv_len[i]*0+2.75*sorted_erosion['Elevation'].max())\n",
    "                    \n",
    "            ax2.plot(xl1,yl1,'og',linewidth=4.0)\n",
    "            ax2.plot(xl2,yl2,'or',linewidth=4.0)\n",
    "            ax2.scatter(xl3,yl3,c='#247afd',marker='o',s=40.0)\n",
    "            ax2.scatter(xl4,yl4,c='grey',marker='o',s=40.0)\n",
    "            xl1, xl2, xl25, xl3, xl4 = [],[],[],[],[]\n",
    "            yl1, yl2, yl25, yl3, yl4 = [],[],[],[],[]\n",
    "\n",
    "            ax2.legend(['*Terrain','Wave Crest','**Controlling Wave Height','1% Total SWEL','VE Zone',\n",
    "                        'AE Zone','A Zone','X Zone'],loc='upper center',bbox_to_anchor=(0.5,-0.15),ncol=7)\n",
    "            ax1.legend(['Terrain','Pre-Eroded Terrain','PFD'],loc='upper center',bbox_to_anchor=(0.5,-0.15),ncol=7)\n",
    "            ax1.set_xlim(0.5*change['Station'].min(), 1.25*change['Station'].max())\n",
    "            ax1.set_ylim(0.25*change['Elevation'].min(), 1.25*change['Elevation'].max())\n",
    "            ax1.set_xlabel('Station (feet)')\n",
    "            ax1.set_ylabel('Elevation (feet NAVD88)')\n",
    "            ax1.grid(True)\n",
    "            ax1.set_title(title+': at Transect {}'.format(t) + '\\n' + \n",
    "                          'Erosion Status {}'.format(geo_name['Erosion Status'][0])+\n",
    "                          '\\n'+ 'Revervoir Area = {} ft^2'.format(geo_name['Reservoir Area'][0]))\n",
    "            ax2.set_xlim(-50, sorted_erosion['Station'].max())\n",
    "            ax2.set_ylim(1.2*sorted_erosion['Elevation'].min(), 6.5*sorted_erosion['Elevation'].max())\n",
    "            ax2.set_xlabel('Station (feet)')\n",
    "            ax2.set_ylabel('Elevation (feet NAVD88)')\n",
    "            ax2.grid(True)\n",
    "\n",
    "        else:\n",
    "            fig, ax = plt.subplots(figsize=(18,10))\n",
    "            z1=ax.plot(sorted_original['Station'],sorted_original['Elevation'],'k')\n",
    "            wave_profile = dfW2[dfW2['Transect'] == t]\n",
    "            sorted_wave = wave_profile.sort_values(by='Stations')\n",
    "            z2=ax.plot(sorted_wave['Stations'], sorted_wave['Wave_crest_elevation'],'-m')\n",
    "            z3=ax.plot(sorted_wave['Stations'], sorted_wave['Wave_height'],'-c')\n",
    "            still_profile = dfS2[dfS2['Transect'] == t]\n",
    "            sorted_still = still_profile.sort_values(by='Station')\n",
    "            z4=ax.plot(sorted_still['Station'], sorted_still['100_year_swell'],'-b')\n",
    "            sorted_wave = sorted_wave.reset_index(drop=True).copy()\n",
    "            wv_len = np.arange(sorted_wave['Stations'][0],sorted_wave['Stations'].iloc[-1],1)\n",
    "            wave_h = np.interp(wv_len,list(sorted_wave['Stations']),list(sorted_wave['Wave_height']))\n",
    "            for i in range(0,len(wave_h)):\n",
    "                if wave_h[i] >= 3:\n",
    "                    xl1.append(wv_len[i])\n",
    "                    yl1.append(wv_len[i]*0+2.75*sorted_erosion['Elevation'].max())\n",
    "                    \n",
    "                if wave_h[i] < 3 and wave_h[i] >= 1.5:\n",
    "                    xl2.append(wv_len[i])\n",
    "                    yl2.append(wv_len[i]*0+2.75*sorted_erosion['Elevation'].max())\n",
    "                    \n",
    "                if wave_h[i] < 1.5 and wave_h[i] >=0.5:\n",
    "                    xl3.append(wv_len[i])\n",
    "                    yl3.append(wv_len[i]*0+2.75*sorted_erosion['Elevation'].max())\n",
    "                    \n",
    "                if wave_h[i] < 0.5:\n",
    "                    xl4.append(wv_len[i])\n",
    "                    yl4.append(wv_len[i]*0+2.75*sorted_erosion['Elevation'].max())\n",
    "                    \n",
    "            ax.plot(xl1,yl1,'og',linewidth=4.0)\n",
    "            ax.plot(xl2,yl2,'or',linewidth=4.0)\n",
    "            ax.scatter(xl3,yl3,c='#247afd',marker='o',s=40.0)\n",
    "            ax.scatter(xl4,yl4,c='grey',marker='o',s=40.0)\n",
    "            xl1, xl2, xl25, xl3, xl4 = [],[],[],[],[]\n",
    "            yl1, yl2, yl25, yl3, yl4 = [],[],[],[],[]\n",
    "    \n",
    "            ax.legend(['*Terrain','Wave Crest','**Controlling Wave Height','1% Total SWEL','VE Zone',\n",
    "                       'AE Zone','A Zone','X Zone'],loc='upper center',bbox_to_anchor=(0.5,-0.15),ncol=7)\n",
    "                        \n",
    "            ax.set_xlim(-50, sorted_erosion['Station'].max())\n",
    "            ax.set_ylim(1.2*sorted_erosion['Elevation'].min(), 6.5*sorted_erosion['Elevation'].max())\n",
    "            ax.set_xlabel('Station (feet)')\n",
    "            ax.set_ylabel('Elevation (feet NAVD88)')\n",
    "            ax.set_title(title+': at Transect {}'.format(t))\n",
    "            ax.grid(True)\n",
    "\n",
    "    plt.savefig(root_dir+'\\\\'+mbd.split('.mdb')[0]+'_transect_{}.png'.format(t),dpi=300, bbox_inches = 'tight', pad_inches = 0.1)\n",
    "    #plt.show()\n",
    "    plt.close() "
   ]
  },
  {
   "cell_type": "code",
   "execution_count": null,
   "metadata": {},
   "outputs": [],
   "source": []
  },
  {
   "cell_type": "code",
   "execution_count": null,
   "metadata": {},
   "outputs": [],
   "source": []
  }
 ],
 "metadata": {
  "kernelspec": {
   "display_name": "Python [default]",
   "language": "python",
   "name": "python3"
  },
  "language_info": {
   "codemirror_mode": {
    "name": "ipython",
    "version": 3
   },
   "file_extension": ".py",
   "mimetype": "text/x-python",
   "name": "python",
   "nbconvert_exporter": "python",
   "pygments_lexer": "ipython3",
   "version": "3.6.5"
  }
 },
 "nbformat": 4,
 "nbformat_minor": 2
}
